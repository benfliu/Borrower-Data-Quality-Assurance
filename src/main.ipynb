{
 "cells": [
  {
   "cell_type": "markdown",
   "metadata": {},
   "source": [
    "## Borrower Data Quality Assurance\n",
    "This file contains code snippets that demonstrate my approach to the problem of parsing a borrower contract in PDF format for desired fields and their respective values. By using the PDFMiner library for PDF parsing and Regex for pattern matching, these desired key-values pairs can be easily identified.\n"
   ]
  },
  {
   "cell_type": "markdown",
   "metadata": {},
   "source": [
    "### Extracting all text\n",
    "I began by extracting all text from the PDF. Luckily, PDFMiner makes this very simple!"
   ]
  },
  {
   "cell_type": "code",
   "execution_count": 42,
   "metadata": {},
   "outputs": [
    {
     "name": "stdout",
     "output_type": "stream",
     "text": [
      "PRIVATE LOAN BORROWER FORM\n",
      "To be submitted by private loan borrowers after credit approval by lender\n",
      "\n",
      "Borrower Last Name: Smith\n",
      "\n",
      "Borrower First Name: Adam\n",
      "\n",
      "Date of Birth: 11/19/1982\n",
      "\n",
      "Application ID: 423982870190\n",
      "\n",
      "Your lender's name: XYZ Capital\n",
      "\n",
      "Your lender's website home page: xyzcapital.com\n",
      "\n",
      "Loan amount approved by your lender (US dollars): $4200\n",
      "\n",
      "Signature: I understand that this form… I further understand that I must complete the following steps before my loan will be ready\n",
      "for disbursement.\n",
      "\n",
      "Borrower Signature Date: 03/27/2023\n",
      "\n",
      "NEXT STEPS:\n",
      "\n",
      "1. Review your Application Disclosure to find general information about your loan. Online applicants are able to click on a link to read the\n",
      "\n",
      "disclosure. Students who apply by phone receive the disclosure via U.S. mail.\n",
      "\n",
      "2. Once your loan is credit-approved, follow your lender's instructions for the next steps in your loan application process. 3.\n",
      "Self-Certification-Complete the Applicant Self-Certification Form. You will receive it from your lender via email, U.S. mail or possibly both. If\n",
      "you need an additional copy, you may contact your bank or retrieve it online. The following information is needed in order for you to\n",
      "complete the lender's self-certification form:\n",
      "\n",
      "o Section 2A of the Self Certification Form: Cost of Attendance is the estimated cost of tuition and fees, room and board,\n",
      "\n",
      "transportation and other allowable costs for the period of enrollment covered by the loan, as determined by the school. View\n",
      "the Tuition & Expenses page for detailed information.\n",
      "\n",
      "o Section 2B of the Self Certification Form: Estimated Financial Assistance is all federal, state, institutional (school) and private\n",
      "\n",
      "sources of financial aid for the enrollment period listed in Section 3 of the Self Certification Form. This includes, scholarships\n",
      "and fellowships you are receiving from the Tepper School and outside sources, other loans (federal and/or private), employer\n",
      "tuition remission and financial aid provided by any other source.\n",
      "\n",
      "o Section 3 of the Self Certification Form: Period of Enrollment Covered by the Loan. Do not include periods on non-enrollment. 4.\n",
      "Log into the Tepper School Financial Aid Portal using your CMU “andrew” ID login credentials. Select your award year from the dropdown on\n",
      "the upper right corner. Select “Accept Awards” from the menu button on the upper left corner of the page to accept, reject, or reduce financial\n",
      "aid awards that are offered to you. Note for Newly Admitted Students: Within approximately 2-3 weeks after having paid your admission\n",
      "deposit, you will receive directions for activating your andrew ID from the University in an email entitled \"Receive your Andrew userID.\" You\n",
      "may complete Step 4 only after having received and activated your university andrew ID.\n",
      "5. Consumer Credit Agreement Letter-Watch for an email and letter from your lender requesting a signed consumer credit agreement. 6.\n",
      "Approval Disclosures-Read your Approval Disclosures and sign them. You will receive a link to it via email if you choose to sign or\n",
      "download your consumer credit agreement electronically. Otherwise, you will receive the disclosure via U.S. mail with a pre-printed\n",
      "consumer credit agreement.\n",
      "7. Waiting Period-Watch for the final loan disclosure from your lender. Once you have received it, you have a 3-business day rescission\n",
      "\n",
      "period during which time you have the right to cancel the loan. The loan will not disburse during the rescission period. You may expect\n",
      "your loan to first disburse 7-10 days after the rescission period ends but not prior to the week before classes begin in the first semester\n",
      "covered by the loan.\n",
      "\n",
      "\f\n"
     ]
    }
   ],
   "source": [
    "from pdfminer.high_level import extract_pages, extract_text\n",
    "\n",
    "pdf_filename = \"Adam Smith - Private Loan Borrower Form.pdf\"\n",
    "pdf_path = \"../PDFs/\" + pdf_filename\n",
    "pdf_text = extract_text(pdf_path).replace(\"’\", \"\\'\") # To get rid of \"smart apostrophe\" formatting\n",
    "print(pdf_text)"
   ]
  },
  {
   "cell_type": "markdown",
   "metadata": {},
   "source": [
    "### Using Regex to find desired fields and their respective values\n",
    "With the extracted text in string format, we now use Regex to parse the string for desired fields and their respective values. This is done by creating \"regular expressions,\" which are essentially patterns of text that represent three essential parts of a string pattern:\n",
    "\n",
    "1) the type of characters we're looking for,\n",
    "2) the quantity of each character,\n",
    "3) and the desired order of these characters.\n",
    "\n",
    "By creating a regular expressions, we can easily search a string for its matches using the *findall* function. Although there should only be one match (assuming the PDF is in the proper format,) I chose to use *findall* instead of the *search* function here to allow the program to catch instances in which the PDF is improperly formatted."
   ]
  },
  {
   "cell_type": "code",
   "execution_count": 43,
   "metadata": {},
   "outputs": [
    {
     "name": "stdout",
     "output_type": "stream",
     "text": [
      "Date of Birth: 11/19/1982\n",
      "Multiple/no matches found.\n",
      "Multiple/no matches found.\n"
     ]
    }
   ],
   "source": [
    "import re\n",
    "\n",
    "# Functionally the same as using pdf_text, but easier to alter for testing\n",
    "test_text = \"Date of Birth: 11/19/1982\"\n",
    "test_text_dupe = \"Date of Birth: 11/19/1982\\n Date of Birth: 11/19/1982\"\n",
    "test_text_none = \"Dtae of Birth: 11/19/1982\"\n",
    "\n",
    "# Uses Regex (regular expressions) to create a pattern for the Date of Birth line in the form\n",
    "dob_pattern = re.compile(r\"Date of Birth: .+\")\n",
    "dob_match = dob_pattern.findall(test_text)[0] if len(dob_pattern.findall(test_text)) == 1 else \"Multiple/no matches found.\"\n",
    "dob_match_dupe = dob_pattern.findall(test_text_dupe)[0] if len(dob_pattern.findall(test_text_dupe)) == 1 else \"Multiple/no matches found.\"\n",
    "dob_match_none = dob_pattern.findall(test_text_none)[0] if len(dob_pattern.findall(test_text_none)) == 1 else \"Multiple/no matches found.\"\n",
    "print(dob_match)\n",
    "print(dob_match_dupe)\n",
    "print(dob_match_none)"
   ]
  },
  {
   "cell_type": "markdown",
   "metadata": {},
   "source": [
    "### Separating field names and their values with Regex's ( ... ) capturing group operator\n",
    "Notice that in the *dob_match* example above, we find the key-value pair as a single string. This means that in order to separate the field name from its value, some additional operations must be done. To eliminate this, we use Regex's ( ... ) capturing group operator, which allows us to specify which parts of the match we want. This is used in the following example:"
   ]
  },
  {
   "cell_type": "code",
   "execution_count": 44,
   "metadata": {},
   "outputs": [
    {
     "name": "stdout",
     "output_type": "stream",
     "text": [
      "('Date of Birth', '11/19/1982')\n",
      "Multiple/no matches found.\n",
      "Multiple/no matches found.\n"
     ]
    }
   ],
   "source": [
    "# Uses capturing groups to separate field names and their respective values\n",
    "dob_kv_pattern = re.compile(r\"(Date of Birth): (.+)\")\n",
    "dob_kv_match = dob_kv_pattern.findall(test_text)[0] if len(dob_kv_pattern.findall(test_text)) == 1 else \"Multiple/no matches found.\"\n",
    "dob_kv_match_dupe = dob_kv_pattern.findall(test_text_dupe)[0] if len(dob_kv_pattern.findall(test_text_dupe)) == 1 else \"Multiple/no matches found.\"\n",
    "dob_kv_match_none = dob_kv_pattern.findall(test_text_none)[0] if len(dob_kv_pattern.findall(test_text_none)) == 1 else \"Multiple/no matches found.\"\n",
    "print(dob_kv_match)\n",
    "print(dob_kv_match_dupe)\n",
    "print(dob_kv_match_none)"
   ]
  },
  {
   "cell_type": "markdown",
   "metadata": {},
   "source": [
    "### Customized Exception handling\n",
    "In the code above, we handle errors using a simple string message being put in place of the match if multiple or no matches are found. There are some issues with this — first, we don't know there are multiple matches or no matches, and second, it doesn't actually throw an error, which can let bad data sneak through.\n",
    "\n",
    "Let's improve this error-handling system. Notice we've created two customized Exceptions below, MultipleFieldMatchesFoundException and NoFieldMatchFoundException, which are thrown if multiple matches or no matches are found for a given field. This helps ensure that PDFs are in proper format and that we aren't recording junk data."
   ]
  },
  {
   "cell_type": "code",
   "execution_count": 45,
   "metadata": {},
   "outputs": [],
   "source": [
    "class MultipleFieldMatchesFoundException(Exception):\n",
    "    \"\"\"\n",
    "    Exception thrown when there are multiple matches for a given field name\n",
    "    in a particular PDF, indicating improper PDF contract format.\n",
    "\n",
    "    Inputs:\n",
    "        field - field name with multiple matches\n",
    "        num_matches - number of matches found\n",
    "        pdf - filename of the PDF\n",
    "        message - string explanation of the error\n",
    "    \"\"\"\n",
    "    def __init__(self, field, num_matches, pdf):\n",
    "        self.field = field\n",
    "        self.num_matches = num_matches\n",
    "        self.pdf = pdf\n",
    "        self.message = \"Multiple matches ({1}) found for \\'{0}\\' in \\'{2}\\'. Check PDF \\'{2}\\' for proper format.\".format(self.field, self.num_matches, self.pdf)\n",
    "        super().__init__(self.message)\n",
    "# # Test case\n",
    "# raise MultipleFieldMatchesFoundException(\"Borrower Last Name\", 3, \"Adam Smith - Private Loan Borrower Form.pdf\")"
   ]
  },
  {
   "cell_type": "code",
   "execution_count": 46,
   "metadata": {},
   "outputs": [],
   "source": [
    "class NoFieldMatchFoundException(Exception):\n",
    "    \"\"\"\n",
    "    Exception thrown when no match is found for a given field name\n",
    "    in a particular PDF, indicating improper PDF contract format.\n",
    "\n",
    "    Inputs:\n",
    "        field - field name with no match\n",
    "        pdf - filename of the PDF\n",
    "        message - string explanation of the error\n",
    "    \"\"\"\n",
    "    def __init__(self, field, pdf):\n",
    "        self.field = field\n",
    "        self.pdf = pdf\n",
    "        self.message = \"No match found for \\'{0}\\' in \\'{1}\\'. Check PDF \\'{1}\\' for proper format.\".format(self.field, self.pdf)\n",
    "        super().__init__(self.message)\n",
    "# # Test case\n",
    "# raise NoFieldMatchFoundException(\"Borrower First Name\", \"Adam Smith - Private Loan Borrower Form.pdf\")"
   ]
  },
  {
   "cell_type": "markdown",
   "metadata": {},
   "source": [
    "### Dynamic Regex for variable field names\n",
    "Up until this point, all of the Regex patterns we've created have been hard-coded. As a reminder, our Date of Birth Regex pattern separating key-value pairs looks like the following:\n",
    "\n",
    "```python\n",
    "dob_kv_pattern = re.compile(r\"(Date of Birth): (.+)\")\n",
    "```\n",
    "\n",
    "To be able to find matches for any specified field, we need to make our pattern dynamic."
   ]
  },
  {
   "cell_type": "code",
   "execution_count": 59,
   "metadata": {},
   "outputs": [
    {
     "name": "stdout",
     "output_type": "stream",
     "text": [
      "('Date of Birth', '11/19/1982')\n",
      "('Date of Birth', '11/19/1982')\n",
      "(\"Your lender's name\", 'XYZ Capital')\n"
     ]
    }
   ],
   "source": [
    "field_name = \"Date of Birth\"\n",
    "field_pattern = re.compile(rf\"({field_name}): (.+)\")\n",
    "print(field_pattern.findall(pdf_text)[0])\n",
    "\n",
    "# This is the same as...\n",
    "print(dob_kv_pattern.findall(pdf_text)[0])\n",
    "\n",
    "# And this dynamic pattern can be used to find other fields, too\n",
    "field_name = \"Your lender's name\"\n",
    "field_pattern = re.compile(rf\"({field_name}): (.+)\")\n",
    "print(field_pattern.findall(pdf_text)[0])\n"
   ]
  },
  {
   "cell_type": "markdown",
   "metadata": {},
   "source": [
    "### Creating a field searching function\n",
    "With these components, we can now modularize this logic."
   ]
  },
  {
   "cell_type": "code",
   "execution_count": 76,
   "metadata": {},
   "outputs": [
    {
     "name": "stdout",
     "output_type": "stream",
     "text": [
      "('Borrower First Name', 'Adam')\n",
      "('Date of Birth', '11/19/1982')\n",
      "('Application ID', '423982870190')\n",
      "(\"Your lender's name\", 'XYZ Capital')\n",
      "(\"Your lender's website home page\", 'xyzcapital.com')\n"
     ]
    }
   ],
   "source": [
    "def find_field_match(field_name, pdf_text, pdf):\n",
    "    \"\"\"\n",
    "    Searches PDF text for field name and its respective value. Throws an\n",
    "    error if multiple matches or no matches are found.\n",
    "\n",
    "    Inputs:\n",
    "        field_name - the field being searched for\n",
    "        pdf_text - the PDF text being searched\n",
    "        pdf - filename of the PDF\n",
    "\n",
    "    Returns a tuple containing the field name and its value.\n",
    "    \"\"\"\n",
    "    field_pattern = re.compile(rf\"({field_name}): (.+)\")\n",
    "    num_matches = len(field_pattern.findall(pdf_text))\n",
    "    if num_matches == 1:\n",
    "        return field_pattern.findall(pdf_text)[0]\n",
    "    elif num_matches > 1:\n",
    "        raise MultipleFieldMatchesFoundException(field_name, num_matches, pdf)\n",
    "    else:\n",
    "        raise NoFieldMatchFoundException(field_name, pdf)\n",
    "# Test cases\n",
    "print(find_field_match(\"Borrower First Name\", pdf_text, pdf_filename))\n",
    "print(find_field_match(\"Date of Birth\", pdf_text, pdf_filename))\n",
    "print(find_field_match(\"Application ID\", pdf_text, pdf_filename))\n",
    "print(find_field_match(\"Your lender's name\", pdf_text, pdf_filename))\n",
    "print(find_field_match(\"Your lender's website home page\", pdf_text, pdf_filename))\n",
    "#print(find_field_match(\"Borrower Fiirst Name\", pdf_text, pdf_filename)) # Properly catches the no match found\n",
    "#print(find_field_match(\"Field\", \"Field: asd\\nField: asd\", \"Test PDF.pdf\"))"
   ]
  },
  {
   "cell_type": "code",
   "execution_count": 49,
   "metadata": {},
   "outputs": [],
   "source": [
    "desired_fields = [\"Borrower Last Name\", \"Borrower First Name\", \"Date of Birth\"]\n"
   ]
  },
  {
   "cell_type": "code",
   "execution_count": 50,
   "metadata": {},
   "outputs": [
    {
     "ename": "IndentationError",
     "evalue": "expected an indented block after function definition on line 1 (3310128034.py, line 1)",
     "output_type": "error",
     "traceback": [
      "\u001b[0;36m  Cell \u001b[0;32mIn[50], line 1\u001b[0;36m\u001b[0m\n\u001b[0;31m    def get_data():\u001b[0m\n\u001b[0m                   ^\u001b[0m\n\u001b[0;31mIndentationError\u001b[0m\u001b[0;31m:\u001b[0m expected an indented block after function definition on line 1\n"
     ]
    }
   ],
   "source": [
    "def get_data():"
   ]
  }
 ],
 "metadata": {
  "interpreter": {
   "hash": "aee8b7b246df8f9039afb4144a1f6fd8d2ca17a180786b69acc140d282b71a49"
  },
  "kernelspec": {
   "display_name": "Python 3.10.1 64-bit",
   "language": "python",
   "name": "python3"
  },
  "language_info": {
   "codemirror_mode": {
    "name": "ipython",
    "version": 3
   },
   "file_extension": ".py",
   "mimetype": "text/x-python",
   "name": "python",
   "nbconvert_exporter": "python",
   "pygments_lexer": "ipython3",
   "version": "3.10.1"
  },
  "orig_nbformat": 4
 },
 "nbformat": 4,
 "nbformat_minor": 2
}
