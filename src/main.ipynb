{
 "cells": [
  {
   "cell_type": "code",
   "execution_count": 3,
   "metadata": {},
   "outputs": [
    {
     "name": "stdout",
     "output_type": "stream",
     "text": [
      "PRIVATE LOAN BORROWER FORM\n",
      "To be submitted by private loan borrowers after credit approval by lender\n",
      "\n",
      "Borrower Last Name: Smith\n",
      "\n",
      "Borrower First Name: Adam\n",
      "\n",
      "Date of Birth: 11/19/1982\n",
      "\n",
      "Application ID: 423982870190\n",
      "\n",
      "Your lender’s name: XYZ Capital\n",
      "\n",
      "Your lender’s website home page: xyzcapital.com\n",
      "\n",
      "Loan amount approved by your lender (US dollars): $4200\n",
      "\n",
      "Signature: I understand that this form… I further understand that I must complete the following steps before my loan will be ready\n",
      "for disbursement.\n",
      "\n",
      "Borrower Signature Date: 03/27/2023\n",
      "\n",
      "NEXT STEPS:\n",
      "\n",
      "1. Review your Application Disclosure to find general information about your loan. Online applicants are able to click on a link to read the\n",
      "\n",
      "disclosure. Students who apply by phone receive the disclosure via U.S. mail.\n",
      "\n",
      "2. Once your loan is credit-approved, follow your lender's instructions for the next steps in your loan application process. 3.\n",
      "Self-Certification-Complete the Applicant Self-Certification Form. You will receive it from your lender via email, U.S. mail or possibly both. If\n",
      "you need an additional copy, you may contact your bank or retrieve it online. The following information is needed in order for you to\n",
      "complete the lender's self-certification form:\n",
      "\n",
      "o Section 2A of the Self Certification Form: Cost of Attendance is the estimated cost of tuition and fees, room and board,\n",
      "\n",
      "transportation and other allowable costs for the period of enrollment covered by the loan, as determined by the school. View\n",
      "the Tuition & Expenses page for detailed information.\n",
      "\n",
      "o Section 2B of the Self Certification Form: Estimated Financial Assistance is all federal, state, institutional (school) and private\n",
      "\n",
      "sources of financial aid for the enrollment period listed in Section 3 of the Self Certification Form. This includes, scholarships\n",
      "and fellowships you are receiving from the Tepper School and outside sources, other loans (federal and/or private), employer\n",
      "tuition remission and financial aid provided by any other source.\n",
      "\n",
      "o Section 3 of the Self Certification Form: Period of Enrollment Covered by the Loan. Do not include periods on non-enrollment. 4.\n",
      "Log into the Tepper School Financial Aid Portal using your CMU “andrew” ID login credentials. Select your award year from the dropdown on\n",
      "the upper right corner. Select “Accept Awards” from the menu button on the upper left corner of the page to accept, reject, or reduce financial\n",
      "aid awards that are offered to you. Note for Newly Admitted Students: Within approximately 2-3 weeks after having paid your admission\n",
      "deposit, you will receive directions for activating your andrew ID from the University in an email entitled \"Receive your Andrew userID.\" You\n",
      "may complete Step 4 only after having received and activated your university andrew ID.\n",
      "5. Consumer Credit Agreement Letter-Watch for an email and letter from your lender requesting a signed consumer credit agreement. 6.\n",
      "Approval Disclosures-Read your Approval Disclosures and sign them. You will receive a link to it via email if you choose to sign or\n",
      "download your consumer credit agreement electronically. Otherwise, you will receive the disclosure via U.S. mail with a pre-printed\n",
      "consumer credit agreement.\n",
      "7. Waiting Period-Watch for the final loan disclosure from your lender. Once you have received it, you have a 3-business day rescission\n",
      "\n",
      "period during which time you have the right to cancel the loan. The loan will not disburse during the rescission period. You may expect\n",
      "your loan to first disburse 7-10 days after the rescission period ends but not prior to the week before classes begin in the first semester\n",
      "covered by the loan.\n",
      "\n",
      "\f\n"
     ]
    }
   ],
   "source": [
    "import re\n",
    "from pdfminer.high_level import extract_pages, extract_text\n",
    "\n",
    "text = extract_text(\"../PDFs/Adam Smith - Private Loan Borrower Form.pdf\")\n",
    "print(text)"
   ]
  },
  {
   "cell_type": "code",
   "execution_count": 4,
   "metadata": {},
   "outputs": [
    {
     "name": "stdout",
     "output_type": "stream",
     "text": [
      "['Borrower Last Name']\n"
     ]
    }
   ],
   "source": [
    "# borrower_last_name_pattern = re.compile(r\"Borrower Last Name\")\n",
    "# matches = borrower_last_name_pattern.findall(text)\n",
    "# print(matches)"
   ]
  },
  {
   "cell_type": "code",
   "execution_count": null,
   "metadata": {},
   "outputs": [],
   "source": []
  }
 ],
 "metadata": {
  "interpreter": {
   "hash": "aee8b7b246df8f9039afb4144a1f6fd8d2ca17a180786b69acc140d282b71a49"
  },
  "kernelspec": {
   "display_name": "Python 3.10.1 64-bit",
   "language": "python",
   "name": "python3"
  },
  "language_info": {
   "codemirror_mode": {
    "name": "ipython",
    "version": 3
   },
   "file_extension": ".py",
   "mimetype": "text/x-python",
   "name": "python",
   "nbconvert_exporter": "python",
   "pygments_lexer": "ipython3",
   "version": "3.10.1"
  },
  "orig_nbformat": 4
 },
 "nbformat": 4,
 "nbformat_minor": 2
}
